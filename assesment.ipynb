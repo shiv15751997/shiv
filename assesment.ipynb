{
 "cells": [
  {
   "cell_type": "code",
   "execution_count": 1,
   "id": "b2a33b27-7e3d-49b2-bdd0-19889da1627d",
   "metadata": {},
   "outputs": [],
   "source": [
    "import pandas as pd"
   ]
  },
  {
   "cell_type": "code",
   "execution_count": 2,
   "id": "2d1c83a4-2d40-45a4-bb7f-6eefb0a0505a",
   "metadata": {},
   "outputs": [],
   "source": [
    "import numpy as np"
   ]
  },
  {
   "cell_type": "code",
   "execution_count": 3,
   "id": "45972ead-21e9-4169-90df-f4a6bf0894ec",
   "metadata": {},
   "outputs": [],
   "source": [
    "data=pd.read_csv('C:\\matplotlib\\dataset.csv')\n"
   ]
  },
  {
   "cell_type": "code",
   "execution_count": 7,
   "id": "29beaf2f-6a6d-471b-8bbb-6e4c8ca21eac",
   "metadata": {},
   "outputs": [
    {
     "name": "stdout",
     "output_type": "stream",
     "text": [
      "     id_1  id_2  route   moto    car     rv   bus  truck\n",
      "0     829   827      1   2.05   4.14   4.14  10.1   15.2\n",
      "1     829   821      4   6.63  13.26  13.26  32.4   48.5\n",
      "2     829   804      7  14.41  28.92  28.92  64.7   97.0\n",
      "3     829   822      6   5.90  11.81  11.81  28.8   43.2\n",
      "4     829   826      9   2.87   5.81   5.81  14.2   21.2\n",
      "..    ...   ...    ...    ...    ...    ...   ...    ...\n",
      "336   803   802      3   1.70   3.40   3.40   6.9   10.3\n",
      "337   803   805      4   3.00   6.00   6.00  12.0   17.9\n",
      "338   803   825      3  11.59  23.28  23.28  50.1   75.2\n",
      "339   803   806      9   3.80   7.70   7.70  15.3   23.0\n",
      "340   803   830      1  16.18  32.47  32.47  72.6  108.8\n",
      "\n",
      "[341 rows x 8 columns]\n"
     ]
    }
   ],
   "source": [
    "print(data)"
   ]
  },
  {
   "cell_type": "code",
   "execution_count": 6,
   "id": "7888ab23-ae2e-4102-8e53-d83d5810283b",
   "metadata": {},
   "outputs": [],
   "source": [
    "df=pd.DataFrame(data)"
   ]
  },
  {
   "cell_type": "code",
   "execution_count": 11,
   "id": "39e8b9a6-8130-427f-9036-406ade6768bc",
   "metadata": {
    "scrolled": true
   },
   "outputs": [
    {
     "name": "stdout",
     "output_type": "stream",
     "text": [
      "id_2    801    802    803    804    805    806    807    808    809    821  \\\n",
      "id_1                                                                         \n",
      "801    0.00   2.80   6.00   7.70  11.70  13.40  16.90  19.60  21.00  23.52   \n",
      "802    2.80   0.00   3.40   5.20   9.20  10.90  14.30  17.10  18.50  20.92   \n",
      "803    6.00   3.40   0.00   2.00   6.00   7.70  11.10  13.90  15.30  17.72   \n",
      "804    7.70   5.20   2.00   0.00   4.40   6.10   9.50  12.30  13.70  16.12   \n",
      "805   11.70   9.20   6.00   4.40   0.00   2.00   5.40   8.20   9.60  12.02   \n",
      "806   13.40  10.90   7.70   6.10   2.00   0.00   3.80   6.60   8.00  10.42   \n",
      "807   16.90  14.30  11.10   9.50   5.40   3.80   0.00   2.90   4.30   6.82   \n",
      "808   19.60  17.10  13.90  12.30   8.20   6.60   2.90   0.00   1.70   4.12   \n",
      "809   21.00  18.50  15.30  13.70   9.60   8.00   4.30   1.70   0.00   2.92   \n",
      "821   23.52  20.92  17.72  16.12  12.02  10.42   6.82   4.12   2.92   0.00   \n",
      "822   24.67  22.07  18.87  17.27  13.17  11.57   7.97   5.27   4.07   1.80   \n",
      "823   26.53  23.93  20.73  19.13  15.03  13.43   9.83   7.13   5.93   3.67   \n",
      "824   27.92  25.32  22.12  20.52  16.42   7.80  11.22   8.52   7.32   5.06   \n",
      "825   29.08  26.48  23.28  21.68  17.58  15.98  12.38   9.68   8.48   6.22   \n",
      "826   30.87  28.27  25.07  23.47  19.37  17.77  14.17  11.47  10.27   8.01   \n",
      "827   32.53  29.93  26.73  25.13  21.03  19.43  15.83  13.13  11.93   9.43   \n",
      "829   36.32  33.72  30.52  28.92  24.82  23.22  19.62  16.92  15.72  13.26   \n",
      "830   38.27  35.67  32.47  30.87  26.77  25.17  21.57  18.87  17.67  15.17   \n",
      "831   39.24  36.64  33.44  31.84  27.74  26.14  22.54  19.84  18.64  16.15   \n",
      "\n",
      "id_2    822    823    824    825    826    827    829    830    831  \n",
      "id_1                                                                 \n",
      "801   24.67  26.53  27.92  29.08  30.87  32.53  36.32  38.27  39.24  \n",
      "802   22.07  23.93  25.32  26.48  28.27  29.93  33.72  35.67  36.64  \n",
      "803   18.87  20.73  22.12  23.28  25.07  26.73  30.52  32.47  33.44  \n",
      "804   17.27  19.13  20.52  21.68  23.47  25.13  28.92  30.87  31.84  \n",
      "805   13.17  15.03  16.42  17.58  19.37  21.03  24.82  26.77  27.74  \n",
      "806   11.57  13.43  14.82  15.98  17.77  19.43  23.22  25.17  26.14  \n",
      "807    7.97   9.83  11.22  12.38  14.17  15.83  19.62  21.57  22.54  \n",
      "808    5.27   7.13   8.52   9.68  11.47  13.13  16.92  18.87  19.84  \n",
      "809    4.07   5.93   7.32   8.48  10.27  11.93  15.72  17.67  18.64  \n",
      "821    1.80   3.67   5.06   6.22   8.01   9.43  13.26  15.17  16.15  \n",
      "822    0.00   2.21   3.60   4.76   6.55   8.00  11.81  13.74  14.68  \n",
      "823    2.21   0.00   1.79   2.94   4.74   6.15  10.00  11.89  12.87  \n",
      "824    3.60   1.79   0.00   1.71   3.50   4.92   8.77  10.66  11.64  \n",
      "825    4.76   2.94   1.71   0.00   2.20   3.65   7.46   9.35  10.33  \n",
      "826    6.55   4.74   3.50   2.20   0.00   2.05   5.81   7.71   8.69  \n",
      "827    8.00   6.15   4.92   3.65   2.05   0.00   4.14   6.06   7.04  \n",
      "829   11.81  10.00  21.40   7.46   5.81   4.14   0.00   2.38   3.36  \n",
      "830   13.74  11.89  10.66   0.00   7.71   6.06   2.38   0.00   1.39  \n",
      "831   14.68  12.87  11.64  10.33   8.69   7.04   3.36   1.39   0.00  \n"
     ]
    }
   ],
   "source": [
    "car_matrix=df.pivot(index='id_1',columns='id_2',values='car').fillna(0)\n",
    "print(car_matrix)\n",
    "                                                            "
   ]
  },
  {
   "cell_type": "code",
   "execution_count": 26,
   "id": "9f5e239c-6881-493c-8e59-0a0f82b8f9a9",
   "metadata": {
    "scrolled": true
   },
   "outputs": [
    {
     "name": "stdout",
     "output_type": "stream",
     "text": [
      "{'high': 56, 'low': 196, 'medium': 89}\n"
     ]
    }
   ],
   "source": [
    "\n",
    "def get_type_count(df):\n",
    "    # Add a new categorical column 'car_type'\n",
    "    conditions = [\n",
    "        (df['car'] <= 15),\n",
    "        (df['car'] > 15) & (df['car'] <= 25),\n",
    "        (df['car'] > 25)\n",
    "    ]\n",
    "\n",
    "    choices = ['low', 'medium', 'high']\n",
    "\n",
    "    df['car_type'] = np.select(conditions, choices, default='unknown')\n",
    "\n",
    "    # Calculate the count of occurrences for each car_type category\n",
    "    type_count = df['car_type'].value_counts().to_dict()\n",
    "\n",
    "    # Sort the dictionary alphabetically based on keys\n",
    "    type_count = dict(sorted(type_count.items()))\n",
    "\n",
    "    return type_count\n",
    "\n",
    "# Example usage:\n",
    "\n",
    "result = get_type_count(df)\n",
    "print(result)\n"
   ]
  },
  {
   "cell_type": "code",
   "execution_count": 7,
   "id": "e4394d5a-af1b-4752-9de2-566038f6af1c",
   "metadata": {},
   "outputs": [
    {
     "name": "stdout",
     "output_type": "stream",
     "text": [
      "[2, 7, 12, 17, 25, 30, 54, 64, 70, 97, 144, 145, 149, 154, 160, 201, 206, 210, 215, 234, 235, 245, 250, 309, 314, 319, 322, 323, 334, 340]\n"
     ]
    }
   ],
   "source": [
    "\n",
    "def get_bus_indexes(df):\n",
    "    # Calculate the mean value of the 'bus' column\n",
    "    bus_mean = df['bus'].mean()\n",
    "\n",
    "    # Identify indices where 'bus' values are greater than twice the mean\n",
    "    bus_indexes = df[df['bus'] > 2 * bus_mean].index.tolist()\n",
    "\n",
    "    # Sort the indices in ascending order\n",
    "    bus_indexes.sort()\n",
    "\n",
    "    return bus_indexes\n",
    "\n",
    "# Example usage:\n",
    "result = get_bus_indexes(df)\n",
    "print(result)\n"
   ]
  },
  {
   "cell_type": "code",
   "execution_count": 8,
   "id": "1e1b8a9a-6e37-4231-afd7-b876ed90536f",
   "metadata": {},
   "outputs": [
    {
     "name": "stdout",
     "output_type": "stream",
     "text": [
      "[1, 2, 3, 4, 5, 6, 7, 8, 9, 10]\n"
     ]
    }
   ],
   "source": [
    "\n",
    "\n",
    "def filter_routes(df):\n",
    "    # Calculate the average value of the 'truck' column for each route\n",
    "    route_avg_truck = df.groupby('route')['truck'].mean()\n",
    "\n",
    "    # Filter routes where the average truck value is greater than 7\n",
    "    selected_routes = route_avg_truck[route_avg_truck > 7].index.tolist()\n",
    "\n",
    "    # Sort the selected routes in ascending order\n",
    "    selected_routes.sort()\n",
    "\n",
    "    return selected_routes\n",
    "\n",
    "# Example usage:\n",
    "\n",
    "result = filter_routes(df)\n",
    "print(result)\n"
   ]
  },
  {
   "cell_type": "code",
   "execution_count": 13,
   "id": "aec679f9-32ef-4dab-8844-077ba7a54222",
   "metadata": {},
   "outputs": [
    {
     "name": "stdout",
     "output_type": "stream",
     "text": [
      "id_2   801   802   803   804   805   806   807   808   809   821   822   823  \\\n",
      "id_1                                                                           \n",
      "801    0.0   3.5   7.5   9.6  14.6  16.8  21.1  24.5  19.7  22.0  23.1  24.9   \n",
      "802    3.5   0.0   4.2   6.5  11.5  13.6  17.9  21.4  23.1  19.6  20.7  22.4   \n",
      "803    7.5   4.2   0.0   2.5   7.5   9.6  13.9  17.4  19.1  22.2  23.6  19.4   \n",
      "804    9.6   6.5   2.5   0.0   5.5   7.6  11.9  15.4  17.1  20.2  21.6  23.9   \n",
      "805   14.6  11.5   7.5   5.5   0.0   2.5   6.8  10.2  12.0  15.0  16.5  18.8   \n",
      "806   16.8  13.6   9.6   7.6   2.5   0.0   4.8   8.2  10.0  13.0  14.5  16.8   \n",
      "807   21.1  17.9  13.9  11.9   6.8   4.8   0.0   3.6   5.4   8.5  10.0  12.3   \n",
      "808   24.5  21.4  17.4  15.4  10.2   8.2   3.6   0.0   2.1   5.2   6.6   8.9   \n",
      "809   19.7  23.1  19.1  17.1  12.0  10.0   5.4   2.1   0.0   3.6   5.1   7.4   \n",
      "821   22.0  19.6  22.2  20.2  15.0  13.0   8.5   5.2   3.6   0.0   2.2   4.6   \n",
      "822   23.1  20.7  23.6  21.6  16.5  14.5  10.0   6.6   5.1   2.2   0.0   2.8   \n",
      "823   24.9  22.4  19.4  23.9  18.8  16.8  12.3   8.9   7.4   4.6   2.8   0.0   \n",
      "824   20.9  23.7  20.7  19.2  20.5   9.8  14.0  10.6   9.2   6.3   4.5   2.2   \n",
      "825   21.8  24.8  21.8  20.3  22.0  20.0  15.5  12.1  10.6   7.8   5.9   3.7   \n",
      "826   23.2  21.2  23.5  22.0  24.2  22.2  17.7  14.3  12.8  10.0   8.2   5.9   \n",
      "827   24.4  22.4  20.0  23.6  19.7  24.3  19.8  16.4  14.9  11.8  10.0   7.7   \n",
      "829   27.2  25.3  22.9  21.7  23.3  21.8  24.5  21.2  19.7  16.6  14.8  12.5   \n",
      "830   28.7  26.8  24.4  23.2  20.1  23.6  20.2  23.6  22.1  19.0  17.2  14.9   \n",
      "831   29.4  27.5  25.1  23.9  20.8  24.5  21.1  24.8  23.3  20.2  18.4  16.1   \n",
      "\n",
      "id_2   824   825   826   827   829   830   831  \n",
      "id_1                                            \n",
      "801   20.9  21.8  23.2  24.4  27.2  28.7  29.4  \n",
      "802   23.7  24.8  21.2  22.4  25.3  26.8  27.5  \n",
      "803   20.7  21.8  23.5  20.0  22.9  24.4  25.1  \n",
      "804   19.2  20.3  22.0  23.6  21.7  23.2  23.9  \n",
      "805   20.5  22.0  24.2  19.7  23.3  20.1  20.8  \n",
      "806   18.5  20.0  22.2  24.3  21.8  23.6  24.5  \n",
      "807   14.0  15.5  17.7  19.8  24.5  20.2  21.1  \n",
      "808   10.6  12.1  14.3  16.4  21.2  23.6  24.8  \n",
      "809    9.2  10.6  12.8  14.9  19.7  22.1  23.3  \n",
      "821    6.3   7.8  10.0  11.8  16.6  19.0  20.2  \n",
      "822    4.5   5.9   8.2  10.0  14.8  17.2  18.4  \n",
      "823    2.2   3.7   5.9   7.7  12.5  14.9  16.1  \n",
      "824    0.0   2.1   4.4   6.2  11.0  13.3  14.6  \n",
      "825    2.1   0.0   2.8   4.6   9.3  11.7  12.9  \n",
      "826    4.4   2.8   0.0   2.6   7.3   9.6  10.9  \n",
      "827    6.2   4.6   2.6   0.0   5.2   7.6   8.8  \n",
      "829   20.1   9.3   7.3   5.2   0.0   3.0   4.2  \n",
      "830   13.3   0.0   9.6   7.6   3.0   0.0   1.7  \n",
      "831   14.6  12.9  10.9   8.8   4.2   1.7   0.0  \n"
     ]
    }
   ],
   "source": [
    "\n",
    "\n",
    "def multiply_matrix(car_matrix):\n",
    "    # Create a copy of the DataFrame to avoid modifying the original\n",
    "    modified_matrix = car_matrix.copy()\n",
    "\n",
    "    # Apply the specified logic to modify values\n",
    "    modified_matrix[modified_matrix > 20] *= 0.75\n",
    "    modified_matrix[modified_matrix <= 20] *= 1.25\n",
    "\n",
    "    # Round values to 1 decimal place\n",
    "    modified_matrix = modified_matrix.round(1)\n",
    "\n",
    "    return modified_matrix\n",
    "\n",
    "\n",
    "result = multiply_matrix(car_matrix)\n",
    "print(result)\n",
    "\n",
    "\n"
   ]
  },
  {
   "cell_type": "code",
   "execution_count": null,
   "id": "7905f1d9-b6eb-4f52-84e1-141a21e7345f",
   "metadata": {},
   "outputs": [],
   "source": [
    "import pandas as pd\n",
    "\n",
    "def verify_time_completeness(df):\n",
    "    # Check if the required columns exist in the DataFrame\n",
    "    required_columns = ['startDay', 'startTime', 'endDay', 'endTime']\n",
    "    if not all(column in df.columns for column in required_columns):\n",
    "        raise ValueError(\"Missing required columns in the DataFrame.\")\n",
    "\n",
    "    # Combine 'startDay' and 'startTime' to create 'start_timestamp'\n",
    "    df['start_timestamp'] = pd.to_datetime(df['startDay'] + ' ' + df['startTime'])\n",
    "\n",
    "    # Combine 'endDay' and 'endTime' to create 'end_timestamp'\n",
    "    df['end_timestamp'] = pd.to_datetime(df['endDay'] + ' ' + df['endTime'])\n",
    "\n",
    "    # Extract day of the week and hour of the day for start and end timestamps\n",
    "    df['start_day_of_week'] = df['start_timestamp'].dt.dayofweek\n",
    "    df['end_day_of_week'] = df['end_timestamp'].dt.dayofweek\n",
    "    df['start_hour_of_day'] = df['start_timestamp'].dt.hour\n",
    "    df['end_hour_of_day'] = df['end_timestamp'].dt.hour\n",
    "\n",
    "    # Create a DataFrame to represent the full 24-hour period for each day of the week\n",
    "    full_day_template = pd.DataFrame(index=pd.date_range('00:00:00', '23:59:59', freq='H'))\n",
    "\n",
    "    # Group by (id, id_2) pairs\n",
    "    grouped = df.groupby(['id', 'id_2'])\n",
    "\n",
    "    # Check if each (id, id_2) pair has correct timestamps\n",
    "    completeness_check = grouped.apply(\n",
    "        lambda x: x.groupby(['start_day_of_week', 'start_hour_of_day']).size().unstack().fillna(0).equals(full_day_template)\n",
    "                  and x.groupby(['end_day_of_week', 'end_hour_of_day']).size().unstack().fillna(0).equals(full_day_template)\n",
    "    )\n",
    "\n",
    "    return completeness_check\n",
    "\n",
    "# Example usage:\n",
    "# Assuming df is your DataFrame from dataset-2.csv\n",
    "# Replace 'dataset-2.csv' with the actual file path if you are reading from a file\n",
    "df = pd.read_csv('dataset-2.csv')\n",
    "\n",
    "result = verify_time_completeness(df)\n",
    "print(result)\n"
   ]
  }
 ],
 "metadata": {
  "kernelspec": {
   "display_name": "Python 3 (ipykernel)",
   "language": "python",
   "name": "python3"
  },
  "language_info": {
   "codemirror_mode": {
    "name": "ipython",
    "version": 3
   },
   "file_extension": ".py",
   "mimetype": "text/x-python",
   "name": "python",
   "nbconvert_exporter": "python",
   "pygments_lexer": "ipython3",
   "version": "3.11.1"
  }
 },
 "nbformat": 4,
 "nbformat_minor": 5
}
